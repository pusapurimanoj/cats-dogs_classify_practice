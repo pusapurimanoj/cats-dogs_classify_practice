{
  "nbformat": 4,
  "nbformat_minor": 0,
  "metadata": {
    "colab": {
      "name": "cats and dogs classification.ipynb",
      "provenance": [],
      "collapsed_sections": []
    },
    "kernelspec": {
      "name": "python3",
      "display_name": "Python 3"
    }
  },
  "cells": [
    {
      "cell_type": "code",
      "metadata": {
        "id": "DpVJgPH0ARuW"
      },
      "source": [
        "import numpy as np \n",
        "import pandas as pd\n",
        "import matplotlib.pyplot as plt\n",
        "import tensorflow as tf\n",
        "from tensorflow.keras.models import Sequential\n",
        "from tensorflow.keras.layers import Conv2D, MaxPooling2D\n",
        "from tensorflow.keras.layers import Activation , Dropout , Flatten , Dense\n",
        "import cv2\n",
        "import os\n",
        "import random as r"
      ],
      "execution_count": null,
      "outputs": []
    },
    {
      "cell_type": "code",
      "metadata": {
        "id": "pbzKbHBuIq1u",
        "colab": {
          "base_uri": "https://localhost:8080/"
        },
        "outputId": "86b06e53-6bb3-4a8f-c5b9-70e84e37d0e7"
      },
      "source": [
        "from google.colab import drive\n",
        "drive.mount('/content/drive')"
      ],
      "execution_count": null,
      "outputs": [
        {
          "output_type": "stream",
          "text": [
            "Mounted at /content/drive\n"
          ],
          "name": "stdout"
        }
      ]
    },
    {
      "cell_type": "code",
      "metadata": {
        "id": "2Aq3BlUJg-S0",
        "colab": {
          "base_uri": "https://localhost:8080/"
        },
        "outputId": "b16ced16-3f00-43ce-d59f-206e8cbd2492"
      },
      "source": [
        "cats = os.listdir(\"/content/drive/My Drive/datasets/test_set/cats\")\n",
        "len(cats)"
      ],
      "execution_count": null,
      "outputs": [
        {
          "output_type": "execute_result",
          "data": {
            "text/plain": [
              "1012"
            ]
          },
          "metadata": {
            "tags": []
          },
          "execution_count": 22
        }
      ]
    },
    {
      "cell_type": "code",
      "metadata": {
        "id": "BU7Q9ccKh5gG",
        "colab": {
          "base_uri": "https://localhost:8080/"
        },
        "outputId": "82a7e15c-bd28-498a-bbb8-a3dfdbee46f5"
      },
      "source": [
        "dogs=os.listdir(\"/content/drive/My Drive/datasets/test_set/dogs\")\n",
        "len(dogs)"
      ],
      "execution_count": null,
      "outputs": [
        {
          "output_type": "execute_result",
          "data": {
            "text/plain": [
              "1013"
            ]
          },
          "metadata": {
            "tags": []
          },
          "execution_count": 23
        }
      ]
    },
    {
      "cell_type": "code",
      "metadata": {
        "id": "TblXBVmPLCN1",
        "colab": {
          "base_uri": "https://localhost:8080/"
        },
        "outputId": "7f3efb6e-6a6f-4b96-e71e-e66cd118d460"
      },
      "source": [
        "train_data = tf.keras.preprocessing.image_dataset_from_directory(\n",
        "    \"/content/drive/My Drive/datasets/test_set\",\n",
        "    labels=\"inferred\",\n",
        "    label_mode=\"int\",\n",
        "    class_names=None,\n",
        "    color_mode=\"grayscale\",\n",
        "    batch_size=32,\n",
        "    image_size=(256, 256),\n",
        "    shuffle=True,\n",
        "    seed=1,\n",
        "    validation_split=0.05,\n",
        "    subset=\"training\",\n",
        "    interpolation=\"bilinear\",\n",
        "    follow_links=False,\n",
        ")\n",
        "\n",
        "valid_data =  tf.keras.preprocessing.image_dataset_from_directory(\n",
        "    \"/content/drive/My Drive/datasets/test_set\",\n",
        "    labels=\"inferred\",\n",
        "    label_mode=\"int\",\n",
        "    class_names=None,\n",
        "    color_mode=\"grayscale\",\n",
        "    batch_size=32,\n",
        "    image_size=(256, 256),\n",
        "    shuffle=True,\n",
        "    seed=1,\n",
        "    validation_split=0.05,\n",
        "    subset=\"validation\",\n",
        "    interpolation=\"bilinear\",\n",
        "    follow_links=False,\n",
        ")"
      ],
      "execution_count": null,
      "outputs": [
        {
          "output_type": "stream",
          "text": [
            "Found 2023 files belonging to 2 classes.\n",
            "Using 1922 files for training.\n",
            "Found 2023 files belonging to 2 classes.\n",
            "Using 101 files for validation.\n"
          ],
          "name": "stdout"
        }
      ]
    },
    {
      "cell_type": "code",
      "metadata": {
        "id": "HO0ByuU0UddN",
        "colab": {
          "base_uri": "https://localhost:8080/"
        },
        "outputId": "fead178b-0176-4bfe-ed1b-5f8611384b35"
      },
      "source": [
        "model = Sequential()\n",
        "model.add(Conv2D(64,(3,3),input_shape=(256,256,1)))\n",
        "model.add(MaxPooling2D(2,2))\n",
        "model.add(Conv2D(48,(3,3),activation=\"relu\"))\n",
        "model.add(MaxPooling2D(2,2))\n",
        "model.add(Conv2D(32,(3,3),activation=\"relu\"))\n",
        "model.add(MaxPooling2D(2,2))\n",
        "model.add(Flatten())\n",
        "model.add(Dense(64,activation=\"relu\"))\n",
        "model.add(Dense(2,activation=\"softmax\"))\n",
        "model.summary()"
      ],
      "execution_count": null,
      "outputs": [
        {
          "output_type": "stream",
          "text": [
            "Model: \"sequential_1\"\n",
            "_________________________________________________________________\n",
            "Layer (type)                 Output Shape              Param #   \n",
            "=================================================================\n",
            "conv2d_3 (Conv2D)            (None, 254, 254, 64)      640       \n",
            "_________________________________________________________________\n",
            "max_pooling2d_3 (MaxPooling2 (None, 127, 127, 64)      0         \n",
            "_________________________________________________________________\n",
            "conv2d_4 (Conv2D)            (None, 125, 125, 48)      27696     \n",
            "_________________________________________________________________\n",
            "max_pooling2d_4 (MaxPooling2 (None, 62, 62, 48)        0         \n",
            "_________________________________________________________________\n",
            "conv2d_5 (Conv2D)            (None, 60, 60, 32)        13856     \n",
            "_________________________________________________________________\n",
            "max_pooling2d_5 (MaxPooling2 (None, 30, 30, 32)        0         \n",
            "_________________________________________________________________\n",
            "flatten_1 (Flatten)          (None, 28800)             0         \n",
            "_________________________________________________________________\n",
            "dense_2 (Dense)              (None, 64)                1843264   \n",
            "_________________________________________________________________\n",
            "dense_3 (Dense)              (None, 2)                 130       \n",
            "=================================================================\n",
            "Total params: 1,885,586\n",
            "Trainable params: 1,885,586\n",
            "Non-trainable params: 0\n",
            "_________________________________________________________________\n"
          ],
          "name": "stdout"
        }
      ]
    },
    {
      "cell_type": "code",
      "metadata": {
        "id": "39emjSUZZsts"
      },
      "source": [
        "model.compile(optimizer=\"adam\",\n",
        "              loss=tf.keras.losses.SparseCategoricalCrossentropy(),\n",
        "              metrics=\"accuracy\")"
      ],
      "execution_count": null,
      "outputs": []
    },
    {
      "cell_type": "code",
      "metadata": {
        "id": "GwTnsDTour2Z",
        "colab": {
          "base_uri": "https://localhost:8080/"
        },
        "outputId": "782fff1f-f07e-4748-ad41-916a4de4b85a"
      },
      "source": [
        "history = model.fit(train_data,epochs=5,verbose=1,validation_data=valid_data,batch_size=32)"
      ],
      "execution_count": null,
      "outputs": [
        {
          "output_type": "stream",
          "text": [
            "Epoch 1/5\n",
            "61/61 [==============================] - 636s 10s/step - loss: 0.6977 - accuracy: 0.5083 - val_loss: 0.6935 - val_accuracy: 0.4554\n",
            "Epoch 2/5\n",
            "61/61 [==============================] - 235s 4s/step - loss: 0.6932 - accuracy: 0.5021 - val_loss: 0.6935 - val_accuracy: 0.4554\n",
            "Epoch 3/5\n",
            "61/61 [==============================] - 229s 4s/step - loss: 0.6932 - accuracy: 0.5021 - val_loss: 0.6935 - val_accuracy: 0.4554\n",
            "Epoch 4/5\n",
            "61/61 [==============================] - 229s 4s/step - loss: 0.6932 - accuracy: 0.5021 - val_loss: 0.6935 - val_accuracy: 0.4554\n",
            "Epoch 5/5\n",
            "61/61 [==============================] - 234s 4s/step - loss: 0.6932 - accuracy: 0.4927 - val_loss: 0.6932 - val_accuracy: 0.4554\n"
          ],
          "name": "stdout"
        }
      ]
    },
    {
      "cell_type": "code",
      "metadata": {
        "id": "Ttrw70akvhQv",
        "colab": {
          "base_uri": "https://localhost:8080/"
        },
        "outputId": "c2a85aae-b76e-4060-94d7-5e8a091e338b"
      },
      "source": [
        "test_loss, test_acc=model.evaluate(train_data, verbose=2)\n",
        "print('\\nTest accuracy:', test_acc)"
      ],
      "execution_count": null,
      "outputs": [
        {
          "output_type": "stream",
          "text": [
            "61/61 - 69s - loss: 0.6931 - accuracy: 0.5021\n",
            "\n",
            "Test accuracy: 0.5020811557769775\n"
          ],
          "name": "stdout"
        }
      ]
    },
    {
      "cell_type": "code",
      "metadata": {
        "id": "Tms1IQuHaDPR",
        "colab": {
          "base_uri": "https://localhost:8080/"
        },
        "outputId": "3230f60d-8bb9-4be0-e38b-14503a999819"
      },
      "source": [
        "predict = model.predict(valid_data)\n",
        "predict"
      ],
      "execution_count": null,
      "outputs": [
        {
          "output_type": "execute_result",
          "data": {
            "text/plain": [
              "array([[0.5002956 , 0.49970442],\n",
              "       [0.5002956 , 0.49970442],\n",
              "       [0.5002956 , 0.49970442],\n",
              "       [0.5002956 , 0.49970442],\n",
              "       [0.5002956 , 0.49970442],\n",
              "       [0.5002956 , 0.49970442],\n",
              "       [0.5002956 , 0.49970442],\n",
              "       [0.5002956 , 0.49970442],\n",
              "       [0.5002956 , 0.49970442],\n",
              "       [0.5002956 , 0.49970442],\n",
              "       [0.5002956 , 0.49970442],\n",
              "       [0.5002956 , 0.49970442],\n",
              "       [0.5002956 , 0.49970442],\n",
              "       [0.5002956 , 0.49970442],\n",
              "       [0.5002956 , 0.49970442],\n",
              "       [0.5002956 , 0.49970442],\n",
              "       [0.5002956 , 0.49970442],\n",
              "       [0.5002956 , 0.49970442],\n",
              "       [0.5002956 , 0.49970442],\n",
              "       [0.5002956 , 0.49970442],\n",
              "       [0.5002956 , 0.49970442],\n",
              "       [0.5002956 , 0.49970442],\n",
              "       [0.5002956 , 0.49970442],\n",
              "       [0.5002956 , 0.49970442],\n",
              "       [0.5002956 , 0.49970442],\n",
              "       [0.5002956 , 0.49970442],\n",
              "       [0.5002956 , 0.49970442],\n",
              "       [0.5002956 , 0.49970442],\n",
              "       [0.5002956 , 0.49970442],\n",
              "       [0.5002956 , 0.49970442],\n",
              "       [0.5002956 , 0.49970442],\n",
              "       [0.5002956 , 0.49970442],\n",
              "       [0.5002956 , 0.49970442],\n",
              "       [0.5002956 , 0.49970442],\n",
              "       [0.5002956 , 0.49970442],\n",
              "       [0.5002956 , 0.49970442],\n",
              "       [0.5002956 , 0.49970442],\n",
              "       [0.5002956 , 0.49970442],\n",
              "       [0.5002956 , 0.49970442],\n",
              "       [0.5002956 , 0.49970442],\n",
              "       [0.5002956 , 0.49970442],\n",
              "       [0.5002956 , 0.49970442],\n",
              "       [0.5002956 , 0.49970442],\n",
              "       [0.5002956 , 0.49970442],\n",
              "       [0.5002956 , 0.49970442],\n",
              "       [0.5002956 , 0.49970442],\n",
              "       [0.5002956 , 0.49970442],\n",
              "       [0.5002956 , 0.49970442],\n",
              "       [0.5002956 , 0.49970442],\n",
              "       [0.5002956 , 0.49970442],\n",
              "       [0.5002956 , 0.49970442],\n",
              "       [0.5002956 , 0.49970442],\n",
              "       [0.5002956 , 0.49970442],\n",
              "       [0.5002956 , 0.49970442],\n",
              "       [0.5002956 , 0.49970442],\n",
              "       [0.5002956 , 0.49970442],\n",
              "       [0.5002956 , 0.49970442],\n",
              "       [0.5002956 , 0.49970442],\n",
              "       [0.5002956 , 0.49970442],\n",
              "       [0.5002956 , 0.49970442],\n",
              "       [0.5002956 , 0.49970442],\n",
              "       [0.5002956 , 0.49970442],\n",
              "       [0.5002956 , 0.49970442],\n",
              "       [0.5002956 , 0.49970442],\n",
              "       [0.5002956 , 0.49970442],\n",
              "       [0.5002956 , 0.49970442],\n",
              "       [0.5002956 , 0.49970442],\n",
              "       [0.5002956 , 0.49970442],\n",
              "       [0.5002956 , 0.49970442],\n",
              "       [0.5002956 , 0.49970442],\n",
              "       [0.5002956 , 0.49970442],\n",
              "       [0.5002956 , 0.49970442],\n",
              "       [0.5002956 , 0.49970442],\n",
              "       [0.5002956 , 0.49970442],\n",
              "       [0.5002956 , 0.49970442],\n",
              "       [0.5002956 , 0.49970442],\n",
              "       [0.5002956 , 0.49970442],\n",
              "       [0.5002956 , 0.49970442],\n",
              "       [0.5002956 , 0.49970442],\n",
              "       [0.5002956 , 0.49970442],\n",
              "       [0.5002956 , 0.49970442],\n",
              "       [0.5002956 , 0.49970442],\n",
              "       [0.5002956 , 0.49970442],\n",
              "       [0.5002956 , 0.49970442],\n",
              "       [0.5002956 , 0.49970442],\n",
              "       [0.5002956 , 0.49970442],\n",
              "       [0.5002956 , 0.49970442],\n",
              "       [0.5002956 , 0.49970442],\n",
              "       [0.5002956 , 0.49970442],\n",
              "       [0.5002956 , 0.49970442],\n",
              "       [0.5002956 , 0.49970442],\n",
              "       [0.5002956 , 0.49970442],\n",
              "       [0.5002956 , 0.49970442],\n",
              "       [0.5002956 , 0.49970442],\n",
              "       [0.5002956 , 0.49970442],\n",
              "       [0.5002956 , 0.49970442],\n",
              "       [0.5002956 , 0.49970442],\n",
              "       [0.5002956 , 0.49970442],\n",
              "       [0.5002956 , 0.49970442],\n",
              "       [0.5002956 , 0.49970442],\n",
              "       [0.5002956 , 0.49970442]], dtype=float32)"
            ]
          },
          "metadata": {
            "tags": []
          },
          "execution_count": 30
        }
      ]
    },
    {
      "cell_type": "code",
      "metadata": {
        "id": "tQ2vCQ1OpI4w"
      },
      "source": [
        ""
      ],
      "execution_count": null,
      "outputs": []
    }
  ]
}